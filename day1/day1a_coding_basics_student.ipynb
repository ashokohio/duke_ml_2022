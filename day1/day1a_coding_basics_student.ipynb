{
 "cells": [
  {
   "cell_type": "markdown",
   "id": "87bf1df9",
   "metadata": {},
   "source": [
    "# **Day 1: Python Coding Basics** - Duke Basketball Example\n",
    "\n",
    "**Duke Machine Learning Summer School 2022**  \n",
    "**Code by Billy Carson**  \n",
    "**6 June 2022**  \n",
    "\n",
    "> In this notebook, we will write and run code that uses Duke basketball players and information about them as an extended example to introduce the basics of coding in Python. At the end of later sections, there will be a summary on how the coding concept covered relates to machine learning (ML) and ML coding. Although the examples in this notebook are relatively straightforward, they have a lot in common with the code needed to iteratively train our deep learning models using PyTorch (or any Python-based deep learning framework).\n"
   ]
  },
  {
   "cell_type": "markdown",
   "id": "c941e208",
   "metadata": {},
   "source": [
    "## **1. Jupyter Notebook Environment**\n",
    "\n",
    "Jupyter Notebook is an application that allows editing and execution of Python code via a web browser. Jupyter Notebooks have a compartmental structure that facilitates easy debugging and exploratory analyses. Additionally, Jupyter Notebooks support Markdown cells which makes for easy and aesthetic code documentation. Jupyter supports over 40 programming languages and are compact and sharable. All in all, Jupyter Notebooks are an extremely convenient tool for data science and machine learning applications.\n"
   ]
  },
  {
   "cell_type": "markdown",
   "id": "44a2559b",
   "metadata": {},
   "source": [
    "### 1.1. Orienting ourselves\n",
    "\n",
    "First, let's gain some familiarity with the Jupyter Notebook environment. On the lefthand side of the screen is the sidebar which contains a number of commonly-used tabs including:\n",
    "\n",
    "* A file browser  \n",
    "* A list of open tabs and currently running kernels / terminals  \n",
    "* The command palette \n",
    "* The table of contents of the currently opened notebook  \n",
    "* The Jupyter extension manager  \n"
   ]
  },
  {
   "cell_type": "markdown",
   "id": "e7685bd3",
   "metadata": {},
   "source": [
    "<img src=\"files/jupyter_sidebar.png\" alt=\"drawing\" width=\"500\"/>\n"
   ]
  },
  {
   "cell_type": "markdown",
   "id": "84c4adfa",
   "metadata": {},
   "source": [
    "At the top of the page is the menu bar, which provides access to top-level menus. The default menus are:\n",
    "\n",
    "* File: Actions related to files and directories  \n",
    "* Edit: Actions related to editing documents and other activities  \n",
    "* View: Actions that alter the appearance of JupyterLab  \n",
    "* Run: Actions for running code in different activities  \n",
    "* Kernel: Actions for managing kernels (separate processes for running code)  \n",
    "* Tabs: A list of the open documents and activities  \n",
    "* Settings: Common settings\n",
    "* Help: A list help links  \n"
   ]
  },
  {
   "cell_type": "markdown",
   "id": "11c049b3",
   "metadata": {},
   "source": [
    "<img src=\"files/jupyter_tabs.png\" alt=\"drawing\" width=\"800\"/>\n"
   ]
  },
  {
   "cell_type": "markdown",
   "id": "60a19bf6",
   "metadata": {},
   "source": [
    "For more on the Jupyter Notebook interface, [click here](https://jupyterlab.readthedocs.io/en/stable/user/interface.html).\n"
   ]
  },
  {
   "cell_type": "markdown",
   "id": "eed71ab3",
   "metadata": {},
   "source": [
    "## **2. First Steps**\n"
   ]
  },
  {
   "cell_type": "markdown",
   "id": "f7ec3464",
   "metadata": {},
   "source": [
    "### 2.1. Executing code cells\n",
    "\n",
    "To run code in a Jupyter notebook, we:  \n",
    "* Select the code cell we'd like to run by clicking on the code cell\n",
    "* Simultaneously hold / press the ```Shift``` + ```Enter``` buttons, or alternatively...  \n",
    "\n",
    "Alternatively, you can also run a cell by selecting the cell and clicking the triangle-shaped button at the top of the page (when the mouse is over the button, the phrase \"Run the selected cells and advance\" will appear). In the cell below, we will run code that assigns a [string](https://developers.google.com/edu/python/strings) to a variable. We'll also use the Python built-in [```print```](https://docs.python.org/3/library/functions.html#print) function to display the value stored in the variable and the variable type.\n",
    "\n",
    "For more on running code in Jupyter Notebook [click here](https://jupyter-notebook.readthedocs.io/en/stable/examples/Notebook/Running%20Code.html).\n"
   ]
  },
  {
   "cell_type": "code",
   "execution_count": null,
   "id": "cc2982dc",
   "metadata": {},
   "outputs": [],
   "source": [
    "# Assign string of basketball player's name to a variable\n",
    "jayson_tatum_name = 'Jayson Tatum'\n",
    "\n",
    "# Use the \"print\" and \"type\" functions to display the value stored in the variable \"jayson_tatum_name\"\n",
    "print(jayson_tatum_name)\n",
    "print(type(jayson_tatum_name))\n"
   ]
  },
  {
   "cell_type": "markdown",
   "id": "d1f2cc69",
   "metadata": {},
   "source": [
    "### 2.2. Creating Markdown cells\n",
    "\n",
    "In addition to providing a way to run and execute Python code, Jupyter Notebooks also allow creation of Markdown cells. Markdown cells can help document and organize your code by displaying text which can be formatted using [Markdown language](https://www.markdownguide.org/).\n",
    "\n",
    "For more on Markdown cells in Jupyter Notebooks, [click here](https://jupyter-notebook.readthedocs.io/en/stable/examples/Notebook/Working%20With%20Markdown%20Cells.html]).\n"
   ]
  },
  {
   "cell_type": "code",
   "execution_count": null,
   "id": "fc702657-78ff-4646-9cd9-a50d8cb83fbc",
   "metadata": {},
   "outputs": [],
   "source": [
    "#### **try changing this cell to a Markdown cell**\n"
   ]
  },
  {
   "cell_type": "markdown",
   "id": "08b207f4",
   "metadata": {},
   "source": [
    "### 2.3. Importing packages, modules, classes, and functions\n",
    "\n",
    "In Python, we use the [```import```](https://docs.python.org/3/reference/import.html) statement to import utilities (e.g., packages, modules, classes, and functions) into your local coding environment. Importing necessary utilities into my coding environment is usually the very first thing I do, whether I am using Jupyter Notebook or writing a regular ```.py``` Python script. This way, all the import statements are in the same place at beginning of my code. Below, we will import modules from the matplotlib library for plotting and visualization.\n",
    "\n",
    "To read more about ```import``` statements in Python [click here](https://docs.python.org/3/reference/import.html).\n"
   ]
  },
  {
   "cell_type": "code",
   "execution_count": null,
   "id": "64acb1f4",
   "metadata": {},
   "outputs": [],
   "source": [
    "# Import the image module from matplotlib \n",
    "from matplotlib import image\n",
    "\n",
    "# Import the module matplotlib.pyplot under the alias \"plt\"\n",
    "import matplotlib.pyplot as plt\n"
   ]
  },
  {
   "cell_type": "markdown",
   "id": "46e43bad",
   "metadata": {},
   "source": [
    "In Python you can import packages or modules under an \"alias.\" Typically, we import packages and modules under aliases that are shorter and more compact than the full package / module name, which helps improve the readability of our code.\n",
    "\n",
    "In the code cell below, try importing the NumPy library under the alias ```np```.\n"
   ]
  },
  {
   "cell_type": "code",
   "execution_count": null,
   "id": "dbf4036c",
   "metadata": {},
   "outputs": [],
   "source": [
    "# Import the NumPy library under the alias \"np\"\n",
    "\n",
    "# ============================ #\n",
    "#  ----- YOUR CODE HERE -----  #\n",
    "# ============================ #\n"
   ]
  },
  {
   "cell_type": "markdown",
   "id": "ac6ddccd",
   "metadata": {},
   "source": [
    "## **3. Variables and Basic Data Types**\n"
   ]
  },
  {
   "cell_type": "markdown",
   "id": "db1d2c5d",
   "metadata": {},
   "source": [
    "### 3.1. Variables and basic data types\n",
    "\n",
    "Variables represent memory locations in which the data assigned to them is stored. Basic built-in data types in Python include integers (ints), floats or decimal point numbers, boolean values (e.g., True and False). Python is less strict than other coding languages, in that you don't need to statically type a variable when declaring it. For example, in Python you can write ```i = 1``` rather than ```int i = 1;```. In the code cells below, we will assign different data types to separate variables. We will then use the Python built-in functions ```print``` and [```type```](https://www.programiz.com/python-programming/methods/built-in/type) to display the data types assigned to these variables.\n",
    "\n",
    "For more on built-in data types in Python, [click here](https://docs.python.org/3/library/stdtypes.html).\n"
   ]
  },
  {
   "cell_type": "code",
   "execution_count": null,
   "id": "762ebfc0",
   "metadata": {},
   "outputs": [],
   "source": [
    "# Assign the number 0 to the variable \"jayson_tatum_number\"\n",
    "jayson_tatum_number = 0\n",
    "\n",
    "# Display the type of variable \"jayson_tatum_number\"\n",
    "print(type(jayson_tatum_number))\n"
   ]
  },
  {
   "cell_type": "code",
   "execution_count": null,
   "id": "0ce02b00",
   "metadata": {},
   "outputs": [],
   "source": [
    "# Assign the string \"SF\" to the variable \"jayson_tatum_position\"\n",
    "\n",
    "# ============================ #\n",
    "#  ----- YOUR CODE HERE -----  #\n",
    "# ============================ #\n",
    "\n",
    "# Display the type of variable \"jayson_tatum_position\"\n",
    "\n",
    "# ============================ #\n",
    "#  ----- YOUR CODE HERE -----  #\n",
    "# ============================ #\n"
   ]
  },
  {
   "cell_type": "markdown",
   "id": "51d68121",
   "metadata": {},
   "source": [
    "## **4. Conditional Statments**\n",
    "\n",
    "Conditional statements are a program control flow tool for decision-making operations that help control the \"flow\" or execution of a program. If a condition evaluates to ```True```, the corresponding \"block\" of code below the statement will execute. In the code below, we will run a simple ```if```-```else``` statement to see how conditional statements in Python work.\n",
    "\n",
    "For more on control flow tools in Python, [click here](https://docs.python.org/3/tutorial/controlflow.html).\n"
   ]
  },
  {
   "cell_type": "code",
   "execution_count": null,
   "id": "02be1153",
   "metadata": {},
   "outputs": [],
   "source": [
    "# Assign an integer value to the variable \"player_number\"\n",
    "player_number = 13\n",
    "\n",
    "# Example if-elif-else statement\n",
    "if player_number == 0:\n",
    "    print('This is Jayson Tatum\\'s number.')\n",
    "elif player_number == 1:\n",
    "    print('This is Zion Williamson\\'s number.')\n",
    "else:\n",
    "    print('This is not Jayson Tatum\\'s number.')\n"
   ]
  },
  {
   "cell_type": "markdown",
   "id": "1ff752e6",
   "metadata": {},
   "source": [
    "<font color='blue'>***Relavence to ML / ML coding:*** </font> I use control flow statements throughout my code and notebooks to provide flexibility depending on the needs of a project or experiment. For example, I often use ```if```-```else``` statements in code that constructs my deep learning models to add different numbers of layers depending on a given project's needs and the available computational resources (e.g., less layers or \"shallow\" models for simpler problems or when computational resources are limited, and more layers or \"deeper\" models for more complex problems).\n"
   ]
  },
  {
   "cell_type": "markdown",
   "id": "c58ca43b",
   "metadata": {},
   "source": [
    "## **5. Data Structures**\n",
    "\n",
    "Data structures offer ways of organizing and structuring data so that it can be accessed in an efficient manner. In the code below, we will explore two commonly-used data structures, lists and dictionaries.\n",
    "\n",
    "For more on common Python data structures, [click here](https://docs.python.org/3/tutorial/datastructures.html).\n"
   ]
  },
  {
   "cell_type": "markdown",
   "id": "8a7600e1",
   "metadata": {},
   "source": [
    "### 5.1. Lists\n",
    "\n",
    "Lists are used to store multiple pieces of data in a single variable. We can create a list using square brackets ```[ ]``` and separating elements of a list with commas (e.g., ```[1, 2, 3]```).\n",
    "\n",
    "Some details about lists:\n",
    "* Lists are *ordered*\n",
    "* Each element is assigned an integer number index (starting from 0), and can be accessed via this index\n",
    "* List items can be of different types\n",
    "* Lists can contain duplicate values\n",
    "* Lists are mutable / changeable\n",
    "* Items can be added to existing lists using the ```append``` method\n",
    "* Items can be removed from existing lists using the ```pop``` method\n",
    "\n",
    "In the code below, we will store data corresponding to player information in a list and access that data using list indices.\n"
   ]
  },
  {
   "cell_type": "code",
   "execution_count": null,
   "id": "9ef45bc1",
   "metadata": {},
   "outputs": [],
   "source": [
    "# Store player information in the variable \"jayson_tatum_list\"\n",
    "jayson_tatum_list = [\n",
    "    jayson_tatum_name,\n",
    "    jayson_tatum_number,\n",
    "    jayson_tatum_position]\n"
   ]
  },
  {
   "cell_type": "code",
   "execution_count": null,
   "id": "2cff6b69",
   "metadata": {},
   "outputs": [],
   "source": [
    "# Access and print the first list element stored in the variable \"jayson_tatum_list\"\n",
    "print(jayson_tatum_list[0])\n",
    "\n",
    "# Access and print the second list element stored in the variable \"jayson_tatum_list\"\n",
    "\n",
    "# ============================ #\n",
    "#  ----- YOUR CODE HERE -----  #\n",
    "# ============================ #\n"
   ]
  },
  {
   "cell_type": "markdown",
   "id": "ceff0d38",
   "metadata": {},
   "source": [
    "### 5.2. Dictionaries and additional Python data structures\n",
    "\n",
    "Dictionaries are another commonly-used Python data structure. Like lists, dictionaries store multiple pieces of data in a single variable. However, the way in which data is accessed from dictionaries and the way in which dictionaries are defined differs from lists. Dictionaries store key-value pairs are created using curly brakets ```{ }```, (e.g., ```example_dict = {'key_1': 1, 'key_2': 2, 'key_3': 3}```). Items or values can be accessed from a dictionary by using square brackets placed ```[ ]``` after the dictionary variable name with the corresponding key inside (e.g., ```value_1 = example_dict['key_1']```).\n",
    "\n",
    "Some details about dictionaries:\n",
    "* Dictionary keys are *ordered* (as of Python version 3.7)\n",
    "* Dictionaries do not allow duplicate keys\n",
    "* Dictionaries are mutable / changeable\n",
    "* The keys of an existing dictionary can be retrieved by calling the ```keys``` method of a dictionary object\n",
    "* The key-value pairs of an existing dictionary can be retrieved by calling the ```items``` method of a dictionary object\n",
    "\n",
    "In the code below, we will store data corresponding to player information in a dictionary and access that data using the corresponding key.\n"
   ]
  },
  {
   "cell_type": "code",
   "execution_count": null,
   "id": "212eb829",
   "metadata": {},
   "outputs": [],
   "source": [
    "# Store player information in the variable \"jayson_tatum_dict\"\n",
    "jayson_tatum_dict = {\n",
    "    'name': jayson_tatum_name,\n",
    "    'number': jayson_tatum_number,\n",
    "    'position': jayson_tatum_position}\n"
   ]
  },
  {
   "cell_type": "code",
   "execution_count": null,
   "id": "90533a95",
   "metadata": {},
   "outputs": [],
   "source": [
    "# Access and print the value corresponding to key \"name\" in the dictionary \"jayson_tatum_dict\"\n",
    "print(jayson_tatum_dict['name'])\n",
    "\n",
    "# Access and print the value corresponding to key \"number\" in the dictionary \"jayson_tatum_dict\"\n",
    "\n",
    "# ============================ #\n",
    "#  ----- YOUR CODE HERE -----  #\n",
    "# ============================ #\n"
   ]
  },
  {
   "cell_type": "markdown",
   "id": "1f7c59a1",
   "metadata": {},
   "source": [
    "<font color='blue'>***Relavence to ML / ML coding:*** </font> Data structures provide a convenient way to organize data in your ML coding pipeline. For example, I will often use dictionaries to store data / features and corresponding labels in a single variable rather than having to keep track of data and labels stored across multiple different variables.\n"
   ]
  },
  {
   "cell_type": "markdown",
   "id": "cda631d1",
   "metadata": {},
   "source": [
    "## **6. For-Loops and Iterables**\n"
   ]
  },
  {
   "cell_type": "markdown",
   "id": "a01ff8fb",
   "metadata": {},
   "source": [
    "### 6.1. For-loops\n",
    "\n",
    "In Python, ```for```-loops are used for iterating over a sequence. The sequence can be elements of a list, keys of a dictionary, or some other iterable. ```for```-loops are commonly used when you have code that you want to repeat over and over again for a set amount of times. In the code below, we will execute a simple ```for```-loop. The ```for```-loop will iterate over a range of numbers stored in an iterable returned by the ```range``` function. Inside each \"loop,\" we will print out the index of each iteration.\n"
   ]
  },
  {
   "cell_type": "code",
   "execution_count": null,
   "id": "bc58bc18",
   "metadata": {},
   "outputs": [],
   "source": [
    "# 10 iterations of a for-loop using the built-in \"range\" function\n",
    "for i in range(10):\n",
    "    print(i)\n"
   ]
  },
  {
   "cell_type": "markdown",
   "id": "f96eab30",
   "metadata": {},
   "source": [
    "To iterate through the items or elements of a list, we can use a combination of the ```range``` and ```len``` functions. The ```len``` function, when provided with a list, will return the length of the list as an integer value as determined by the number of items or elements stored in the list.\n"
   ]
  },
  {
   "cell_type": "code",
   "execution_count": null,
   "id": "f4d708aa",
   "metadata": {},
   "outputs": [],
   "source": [
    "# Iterate over the length of the list stored in variable \"jayson_tatum_list\"\n",
    "for i in range(len(jayson_tatum_list)):\n",
    "    # Display the i-th element stored in variable \"jayson_tatum_list\" \n",
    "\n",
    "    # ============================ #\n",
    "    #  ----- YOUR CODE HERE -----  #\n",
    "    # ============================ #\n"
   ]
  },
  {
   "cell_type": "markdown",
   "id": "b5e1fd12",
   "metadata": {},
   "source": [
    "### 6.2. Iterating over lists and other iterables\n",
    "\n",
    "An iterable is an object that can be \"looped\" or iterated over using ```for``` loop. In Python, a list is an example of an iterable. Rather than using the ```range``` and ```len``` functions in conjunction to iterate over a list, you can do so directly since a list is an iterable. Below is an example demonstrating the syntax used to iterate over elements of a list using a ```for```-loop.\n"
   ]
  },
  {
   "cell_type": "code",
   "execution_count": null,
   "id": "1e860db5",
   "metadata": {},
   "outputs": [],
   "source": [
    "# Iterate over each element stored in the list \"jayson_tatum_list\"\n",
    "for info in jayson_tatum_list:\n",
    "    # Display the list element using the \"print\" function\n",
    "    print(info)\n"
   ]
  },
  {
   "cell_type": "markdown",
   "id": "94da5a3f",
   "metadata": {},
   "source": [
    "We can use the ```keys``` method of a dictionary object in conjunction with a ```for```-loop to iterate over the keys of a dictionary.\n"
   ]
  },
  {
   "cell_type": "code",
   "execution_count": null,
   "id": "c0faee80",
   "metadata": {},
   "outputs": [],
   "source": [
    "# Iterate over keys of the dictionary \"jayson_tatum_dict\"\n",
    "for key in jayson_tatum_dict.keys():\n",
    "    # Retrieve value corresponding to key and display value\n",
    "    info = jayson_tatum_dict[key]\n",
    "    print(info)\n"
   ]
  },
  {
   "cell_type": "markdown",
   "id": "92bea359",
   "metadata": {},
   "source": [
    "<font color='blue'>***Relavence to ML / ML coding:*** </font> Since many deep learning algorithms and models are trained iteratively, you will use for-loops and iterables in many, if not most, of your machine learning and deep learning pipelines. In PyTorch, data is loaded and provided to the model in \"batches\" iteratively using an iterable PyTorch ```DataLoader``` object in conjunction with a ```for```-loop. Therefore, the manner in which data is iterated over and batched is very similar to our examples above iterating over items of lists and keys of a dictionary.\n"
   ]
  },
  {
   "cell_type": "markdown",
   "id": "7f3bba20",
   "metadata": {},
   "source": [
    "## **7. Functions**\n",
    "\n",
    "Functions are a group of statements that perform a specific task when the function is called. Functions offer a way to re-use code rather than having to write the same thing over and over again. Functions can take data as parameters or arguments to be used inside the function to perform the task. While you can write and define your own functions, Python also provides pre-defined built-in functions.\n"
   ]
  },
  {
   "cell_type": "markdown",
   "id": "ac35b766",
   "metadata": {},
   "source": [
    "### 7.1. Python built-in functions\n",
    "\n",
    "One example of a Python built-in function is the ```print``` function, which we have been using throughout this notebook to display the data stored in different variables.\n"
   ]
  },
  {
   "cell_type": "code",
   "execution_count": null,
   "id": "3109662a",
   "metadata": {},
   "outputs": [],
   "source": [
    "# Use Python built-in function to display information stored in variables\n",
    "print(jayson_tatum_name)\n",
    "print(jayson_tatum_number)\n",
    "print(jayson_tatum_position)\n"
   ]
  },
  {
   "cell_type": "markdown",
   "id": "3d77e14a",
   "metadata": {},
   "source": [
    "### 7.2. Defining custom functions\n",
    "\n",
    "Below is an example of a custom function definition in Python. This example function takes three arguments and displays each of these arguments using ```print``` calls in the body of the function.\n"
   ]
  },
  {
   "cell_type": "code",
   "execution_count": null,
   "id": "a5a0609d",
   "metadata": {},
   "outputs": [],
   "source": [
    "# Define a custom function that displays / prints out player information\n",
    "def display_info(name, number, position):\n",
    "\n",
    "    # ============================ #\n",
    "    #  ----- YOUR CODE HERE -----  #\n",
    "    # ============================ #\n"
   ]
  },
  {
   "cell_type": "markdown",
   "id": "63d1d011",
   "metadata": {},
   "source": [
    "Below, we can pass variables containing player information as arguments to our custom function, and have this information displayed.\n"
   ]
  },
  {
   "cell_type": "code",
   "execution_count": null,
   "id": "612e4e6e",
   "metadata": {},
   "outputs": [],
   "source": [
    "# Call function \"display_info\" to display player information\n",
    "display_info(name=jayson_tatum_name, number=jayson_tatum_number, position=jayson_tatum_position)\n"
   ]
  },
  {
   "cell_type": "markdown",
   "id": "ded70540",
   "metadata": {},
   "source": [
    "<font color='blue'>***Relavence to ML / ML coding:*** </font> Functions are used in many ML pipelines to abtract more complex code. For example, the main training block of code used to iteratively train models can be implemented as a function. In the past, I have used functions to define entire training pipelines, including loading the data, training a model, and evaluating the model. Abstracting this code using a function makes the notebook that I use to train and evaluate my model more readable.\n"
   ]
  },
  {
   "cell_type": "markdown",
   "id": "f86f84e8",
   "metadata": {},
   "source": [
    "## **8. NumPy and $n$-Dimensional Arrays**\n",
    "\n",
    "NumPy is a commonly-used Python library that provides an N-dimensional array type, the ndarray, and facilitates matrix and linear algebra operations on arrays. ndarrays contain a collection of \"items,\" all of which are the same type.\n",
    "\n",
    "For more on NumPy and NumPy ndarrays, [click here](https://numpy.org/doc/stable/reference/arrays.html).\n"
   ]
  },
  {
   "cell_type": "markdown",
   "id": "c0c44e2a",
   "metadata": {},
   "source": [
    "In this piece of code, we'll read data stored in a JPEG image file into a variable, use the ```type``` function to see how the data is stored, and print out the actual data. First, we'll provide the ```image.imread``` function with a string corresponding to the path of the image file, and the ```image.imread``` function will return a NumPy array of the image data.\n"
   ]
  },
  {
   "cell_type": "code",
   "execution_count": null,
   "id": "c8209c51",
   "metadata": {},
   "outputs": [],
   "source": [
    "# Read image data stored in the file \"'iles/jayson_tatum.jpg\" and store in variable \"jayson_tatum_img\"\n",
    "jayson_tatum_img_path = 'files/jayson_tatum.jpg'\n",
    "jayson_tatum_img = image.imread(jayson_tatum_img_path)\n",
    "print(type(jayson_tatum_img))\n"
   ]
  },
  {
   "cell_type": "markdown",
   "id": "514243ac",
   "metadata": {},
   "source": [
    "In the code cells below, we will display the data stored in the variable ```jayson_tatum_img``` and display the dimensions of this $n$-dimensional array to get a sense of how the image data is represented and stored in Python using Numpy ndarrays.\n"
   ]
  },
  {
   "cell_type": "code",
   "execution_count": null,
   "id": "9852bcca",
   "metadata": {},
   "outputs": [],
   "source": [
    "# Display the data stored in the variable \"jayson_tatum_img\"\n",
    "print(jayson_tatum_img)\n"
   ]
  },
  {
   "cell_type": "markdown",
   "id": "1bf79c29",
   "metadata": {},
   "source": [
    "A helpful attribute that NumPy ndarrays have is the ```shape``` attribute, which provides you with the size or dimensions of the NumPy ndarray.\n"
   ]
  },
  {
   "cell_type": "code",
   "execution_count": null,
   "id": "610888bb",
   "metadata": {},
   "outputs": [],
   "source": [
    "# Display the dimensions of the image array\n",
    "print(jayson_tatum_img.shape)\n"
   ]
  },
  {
   "cell_type": "markdown",
   "id": "c6f52ac6",
   "metadata": {},
   "source": [
    "<font color='blue'>***Relavence to ML / ML coding:*** </font> If you want to train a machine learning or deep learning model on some data, you (almost always) need to provide the model with the data in the form of an $n$-dimensional array or tensor. Some data, like image data, is naturally stored in computers as an array. However, if you want to train your machine learning model on categorical or tabular data, for example, you will need to convert your categorical data to numbers somehow (e.g., through [one hot encoding](https://www.educative.io/blog/one-hot-encoding)).\n"
   ]
  },
  {
   "cell_type": "markdown",
   "id": "7bbd6368",
   "metadata": {},
   "source": [
    "## **9. Objects and Classes**\n",
    "\n",
    "Python's own documentation does a great job of describing classes:\n",
    "\n",
    "> *\"Classes provide a means of bundling data and functionality together. Creating a new class creates a new type of object, allowing new instances of that type to be made. Each class instance can have attributes attached to it for maintaining its state. Class instances can also have methods (defined by its class) for modifying its state.\"*\n",
    "\n",
    "For more on classes in Python [click here](https://docs.python.org/3/tutorial/classes.html).\n"
   ]
  },
  {
   "cell_type": "markdown",
   "id": "48e4ba3f",
   "metadata": {},
   "source": [
    "### 9.1. Defining a class\n",
    "\n",
    "Below is code defining a simple example class called ```BasketballPlayer```. In this class definition, we define the ```__init__``` method, which initializes the class when an instance of the class is created. The ```__init__``` method is similar to a constructor method if you are familiar with other programming languages. The initialization method takes ```name```, ```number```, and ```position``` as arguments when a ```BasketballPlayer``` instance is created. ```self``` is a reference to the object itself. Providing ```self``` as an argument to a method gives this method access to the different attributes and methods of the object.\n"
   ]
  },
  {
   "cell_type": "code",
   "execution_count": null,
   "id": "f0cbc6e2",
   "metadata": {},
   "outputs": [],
   "source": [
    "# BasketballPlayer class definition\n",
    "class BasketballPlayer():\n",
    "    # BasketballPlayer class initialization method\n",
    "    def __init__(self, name, number, position):\n",
    "        # Assign initialization parameters to class attributes\n",
    "        self.name = name\n",
    "        self.number = number\n",
    "        self.position = position\n"
   ]
  },
  {
   "cell_type": "markdown",
   "id": "6b7c512a",
   "metadata": {},
   "source": [
    "### 9.2. Object instantiation\n",
    "\n",
    "Class \"instantiation\" refers to making an instance of a class object and assigning this instance to a variable. Below we create an instance of a ```BasketballPlayer``` object by passing information related to the player Jayson Tatum, and assign this ```BasketballPlayer``` instance to the variable ```jayson_tatum```.\n"
   ]
  },
  {
   "cell_type": "code",
   "execution_count": null,
   "id": "647a1dbe",
   "metadata": {},
   "outputs": [],
   "source": [
    "# Instatniate BasketballPlayer object and assign to variable \"jayson_tatum\"\n",
    "jayson_tatum = BasketballPlayer(name='Jayson Tatum', number=0, position='SF')\n",
    "\n",
    "# Display type of variable \"jayson_tatum\"\n",
    "print(type(jayson_tatum))\n"
   ]
  },
  {
   "cell_type": "markdown",
   "id": "a01ca294",
   "metadata": {},
   "source": [
    "We can access the attributes of our created ```BasketballPlayer``` object placing a period followed by the attribute name after the object instance. For example, to access the ```name``` attribute of a ```BasketballPlayer``` instance, we would do the following: ```jayson_tatum.name```.\n"
   ]
  },
  {
   "cell_type": "code",
   "execution_count": null,
   "id": "bb60b3f0",
   "metadata": {},
   "outputs": [],
   "source": [
    "# Display BasketballPlayer object attributes \"name\" and \"number\"\n",
    "print(jayson_tatum.name)\n",
    "print(jayson_tatum.number)\n",
    "\n",
    "# Display BasketballPlayer object attribute \"position\"\n",
    "\n",
    "# ============================ #\n",
    "#  ----- YOUR CODE HERE -----  #\n",
    "# ============================ #\n"
   ]
  },
  {
   "cell_type": "markdown",
   "id": "8157861c",
   "metadata": {},
   "source": [
    "### 9.3. Class methods\n",
    "\n",
    "In Python, classes can also have methods defined as a part of its class. While properties of an object are defined through its attributes, the behavior of an object is defined through its methods. Methods can be thought of as functions that are specific to or belong to a defined class. When called or invoked, methods performs some action or executes some procedure associated with the class object to which it belongs.\n",
    "\n",
    "In the code below, we will add a method ```display_info``` to our ```BasketballPlayer``` class definition that, when called, displays the information stored in the object's attributes. Since we have re-defined the ```BasketballPlayer``` object by adding a new method, we also need to re-instantiate the ```BasketballPlayer``` object and assign to the variable ```jayson_tatum```.\n"
   ]
  },
  {
   "cell_type": "code",
   "execution_count": null,
   "id": "849d2c08",
   "metadata": {},
   "outputs": [],
   "source": [
    "# BasketballPlayer class definition\n",
    "class BasketballPlayer():\n",
    "    # BasketballPlayer initialization method\n",
    "    def __init__(self, name, number, position):\n",
    "        self.name = name\n",
    "        self.number = number\n",
    "        self.position = position\n",
    "    \n",
    "    # Displays player information\n",
    "    def display_info(self):\n",
    "        print('Name:  %s' % (self.name))\n",
    "        print('Number:  %d' % (self.number))\n",
    "        print('Position:  %s' % (self.position))\n"
   ]
  },
  {
   "cell_type": "code",
   "execution_count": null,
   "id": "e43b305c",
   "metadata": {},
   "outputs": [],
   "source": [
    "# Instatiate BasketballPlayer object\n",
    "jayson_tatum = BasketballPlayer(name='Jayson Tatum', number=0, position='SF')\n"
   ]
  },
  {
   "cell_type": "markdown",
   "id": "c6a950cb",
   "metadata": {},
   "source": [
    "Now we can call the ```display_info``` method  to display the information stored in the object's attributes.\n"
   ]
  },
  {
   "cell_type": "code",
   "execution_count": null,
   "id": "7ce0cdca",
   "metadata": {},
   "outputs": [],
   "source": [
    "# Call the \"display_info\" method and display information stored in BasketballPlayer attributes\n",
    "\n",
    "# ============================ #\n",
    "#  ----- YOUR CODE HERE -----  #\n",
    "# ============================ #\n"
   ]
  },
  {
   "cell_type": "markdown",
   "id": "afc228b9",
   "metadata": {},
   "source": [
    "<font color='blue'>***Relavence to ML / ML coding:*** </font> Many aspects of a machine learning / deep learning coding pipeline are represented as objects. For example, in PyTorch, loss functions, optimizers, and models all are represented as objects with specific attributes and methods.\n"
   ]
  },
  {
   "cell_type": "markdown",
   "id": "f93bf239",
   "metadata": {},
   "source": [
    "## **10. Class Inheritance**\n",
    "\n",
    "Class inheritance is a relatively advanced programming concept; however, it is an extremely useful feature of object oriented programming. Inheritance allows us to define a new class (or \"child\" class) by deriving from a base or \"parent\" class. Through inheritance, we can reuse or inherit attributes and methods from a parent class. Inheritance facilitates programmatic modeling of heirarchical real-world relationships, and also reduces the amount of code we have to ultimately write by allowing us to reuse previous class / object definitions.\n",
    "\n",
    "For more on Python classes and class inheritance, [click here](https://docs.python.org/3/tutorial/classes.html).\n"
   ]
  },
  {
   "cell_type": "markdown",
   "id": "53538080",
   "metadata": {},
   "source": [
    "### 10.1. Defining a class that inherits from another class\n",
    "\n",
    "Below is a class definition of a new class ```DukeBasketballPlayer``` that inherits from our previously-defined ```BasketballPlayer``` class.\n",
    "\n",
    "Since ```DukeBasketballPlayer``` inherits from ```BasketballPlayer```, this object has access to the ```__init__``` method of ```BasketballPlayer```. However, you'll notice that we add an additional argument to the ```__init__``` method of ```DukeBasketballPlayer```, ```years_played```. This is an argument that receives a list of the years played at Duke. Since the ```BasketballPlayer``` parent class ```__init__``` method has no way of handling this new argument, we explicitly assign this argument to an attribute in the ```__init__``` method of ```DukeBasketballPlayer``` following a call to ```super```. In short, the ```super``` function facilitates multiple inheritance, which is used extensively in PyTorch.\n",
    "\n",
    "You'll also notice that we overwrite the ```display_info``` method in this new class definition. While we could use method defined as a part of the ```BasketballPlayer``` parent class, there would be no way to display the new attribute, ```years_played```. Hence, why we overwrite this method.\n"
   ]
  },
  {
   "cell_type": "code",
   "execution_count": null,
   "id": "147cb8d8",
   "metadata": {},
   "outputs": [],
   "source": [
    "# DukeBasketballPlayer class definition, inherits from BasketballPlayer class\n",
    "class DukeBasketballPlayer(BasketballPlayer):\n",
    "    # DukeBasketballPlayer initialization method\n",
    "    def __init__(self, name, number, position, years_played):\n",
    "        super().__init__(name=name, number=number, position=position)\n",
    "        self.years_played = years_played\n",
    "    \n",
    "    # Displays player information\n",
    "    def display_info(self):\n",
    "        print('Name:  %s' % (self.name))\n",
    "        print('Number:  %d' % (self.number))\n",
    "        print('Position:  %s' % (self.position))\n",
    "        if len(self.years_played) > 2:\n",
    "            print('Years played:  %d-%d' % (np.min(self.years_played), np.max(self.years_played)))\n",
    "        else:\n",
    "            print('Years played:  %d' % (np.max(self.years_played)))\n"
   ]
  },
  {
   "cell_type": "markdown",
   "id": "edc316cf",
   "metadata": {},
   "source": [
    "Let's use the previously-defined DukeBasketballPlayer class as a starting point, but add another class attribute corresponding to the path of the player's picture / image file (we'll call this attribute ```img```), and add another method that displays a picture of the athlete. We'll define a new method, ```display_img``` that takes no arguments, and displays an image of the player stored in ```self.img```. We can use the ```imshow``` and ```show``` functions in the previously imported ```plt``` module.\n"
   ]
  },
  {
   "cell_type": "code",
   "execution_count": null,
   "id": "c050ae6e",
   "metadata": {},
   "outputs": [],
   "source": [
    "# DukeBasketballPlayer class definition, inherits from BasketballPlayer class\n",
    "class DukeBasketballPlayer(BasketballPlayer):\n",
    "    # DukeBasketballPlayer initialization method\n",
    "    def __init__(self, name, number, position, years_played, img_path):\n",
    "        super().__init__(name=name, number=number, position=position)\n",
    "        self.years_played = years_played\n",
    "        self.img = image.imread(img_path)\n",
    "    \n",
    "    # Displays player information\n",
    "    def display_info(self):\n",
    "        print('Name:  %s' % (self.name))\n",
    "        print('Number:  %d' % (self.number))\n",
    "        print('Position:  %s' % (self.position))\n",
    "        if len(self.years_played) > 2:\n",
    "            print('Years played:  %d-%d' % (np.min(self.years_played), np.max(self.years_played)))\n",
    "        else:\n",
    "            print('Years played:  %d' % (np.max(self.years_played)))\n",
    "\n",
    "    # Displays image of player stored as data in NumPy array\n",
    "    def display_img(self):\n",
    "\n",
    "        # ============================ #\n",
    "        #  ----- YOUR CODE HERE -----  #\n",
    "        # ============================ #\n"
   ]
  },
  {
   "cell_type": "markdown",
   "id": "cdfc4359",
   "metadata": {},
   "source": [
    "Next, we'll create an instance of a ```DukeBasketballPlayer``` object and assign this instance to the variable ```jayson_tatum```.\n"
   ]
  },
  {
   "cell_type": "code",
   "execution_count": null,
   "id": "0af459d5",
   "metadata": {},
   "outputs": [],
   "source": [
    "# Instantiate DukeBasketballPlayer object\n",
    "jayson_tatum = DukeBasketballPlayer(\n",
    "    name='Jayson Tatum',\n",
    "    number=0,\n",
    "    position='SF',\n",
    "    years_played=[2017],\n",
    "    img_path=jayson_tatum_img_path)\n",
    "\n",
    "# Display the type of the instantiated DukeBasketballPlayer object\n",
    "print(type(jayson_tatum))\n"
   ]
  },
  {
   "cell_type": "markdown",
   "id": "3d2a7ed5",
   "metadata": {},
   "source": [
    "We can call or invoke the ```display_img``` and ```display_info``` methods to display the information stored in an instance of a ```DukeBasketballPlayer``` object.\n"
   ]
  },
  {
   "cell_type": "code",
   "execution_count": null,
   "id": "f0bb4103",
   "metadata": {},
   "outputs": [],
   "source": [
    "# Call methods \"display_img\" and \"display_info\" to display the information contained in the DukeBasketballPlayer object\n",
    "\n",
    "# ============================ #\n",
    "#  ----- YOUR CODE HERE -----  #\n",
    "# ============================ #\n"
   ]
  },
  {
   "cell_type": "markdown",
   "id": "37e5eb88",
   "metadata": {},
   "source": [
    "<font color='blue'>***Relavence to ML / ML coding:*** </font> PyTorch relies heavily on Python class inheritance. Having a general idea of how class inheritance works and how / why it is helpful will help you when creating objects that inherit from PyTorch base classes. Inheriting from pre-defined PyTorch base classes when defining your models, loss functions, and other custom objects will make your code more efficient and save you having to write more code.\n"
   ]
  },
  {
   "cell_type": "markdown",
   "id": "bd750660",
   "metadata": {},
   "source": [
    "## **11. Putting it all together**\n",
    "\n",
    "Now we will put together all of the coding concepts covered above. First, we will instantiate two more ```DukeBasketballPlayer``` objects. Then, we will create a list, with each item of our list being a variable corresponding to a different```DukeBasketballPlayer``` instances. Finally, we will use a ```for```-loop to iterate over each item / object in our list, and call object methods to display an image and information of the player.\n"
   ]
  },
  {
   "cell_type": "code",
   "execution_count": null,
   "id": "ed6c48a6",
   "metadata": {},
   "outputs": [],
   "source": [
    "# Instantiate DukeBasketballPlayer object\n",
    "zion_williamson = DukeBasketballPlayer(\n",
    "    name='Zion Williamson',\n",
    "    number=1,\n",
    "    position='PF',\n",
    "    years_played=[2019],\n",
    "    img_path='files/zion_williamson.jpg')\n",
    "\n",
    "# Instantiate DukeBasketballPlayer object\n",
    "grant_hill = DukeBasketballPlayer(\n",
    "    name='Grant Hill',\n",
    "    number=33,\n",
    "    position='SF',\n",
    "    years_played=[1991, 1992, 1993, 1994],\n",
    "    img_path='files/grant_hill.jpg')\n"
   ]
  },
  {
   "cell_type": "markdown",
   "id": "9d14f0d6",
   "metadata": {},
   "source": [
    "Now, let's group our objects together creating a list of our instantiated ```DukeBasetballPlayer``` objects and assigning the list to variable ```player_list```.\n"
   ]
  },
  {
   "cell_type": "code",
   "execution_count": null,
   "id": "661a66e1",
   "metadata": {},
   "outputs": [],
   "source": [
    "# Create a list of our instantiated DukeBasetballPlayer objects\n",
    "\n",
    "# ============================ #\n",
    "#  ----- YOUR CODE HERE -----  #\n",
    "# ============================ #\n"
   ]
  },
  {
   "cell_type": "markdown",
   "id": "f95d39ea",
   "metadata": {},
   "source": [
    "Finally, let's use a ```for```-loop to iterate over each item in ```player_list```. Since each item is a ```DukeBasketballPlayer``` object, we can use the object's methods ```display_img``` to display the image data and ```display_info``` to display the player's info.\n"
   ]
  },
  {
   "cell_type": "code",
   "execution_count": null,
   "id": "f5dda427",
   "metadata": {},
   "outputs": [],
   "source": [
    "# Iterate over each item in the list of DukeBasketballPlayer objects\n",
    "# In the loop, call the \"display_pic\" and \"display_info\" methods of each DukeBasketballPlayer object item\n",
    "for player in player_list:\n",
    "    # Display player information by calling \"display_pic\" and \"display_info\" methods\n",
    "    player.display_img()\n",
    "    player.display_info()\n",
    "    print()  # extra return line to separate the display of each player's information\n"
   ]
  },
  {
   "cell_type": "markdown",
   "id": "74f17d65",
   "metadata": {},
   "source": [
    "<font color='blue'>***Relavence to ML / ML coding:*** </font> Although this example is relatively straightforward, it has a lot in common with the code we will write to iteratively train our deep learning models using PyTorch. In the cell above, we used a ```for```-loop to iterate over an iterable, and return objects.\n"
   ]
  },
  {
   "cell_type": "code",
   "execution_count": null,
   "id": "db412a26",
   "metadata": {},
   "outputs": [],
   "source": []
  }
 ],
 "metadata": {
  "kernelspec": {
   "display_name": "Python 3 (ipykernel)",
   "language": "python",
   "name": "python3"
  },
  "language_info": {
   "codemirror_mode": {
    "name": "ipython",
    "version": 3
   },
   "file_extension": ".py",
   "mimetype": "text/x-python",
   "name": "python",
   "nbconvert_exporter": "python",
   "pygments_lexer": "ipython3",
   "version": "3.9.7"
  }
 },
 "nbformat": 4,
 "nbformat_minor": 5
}
